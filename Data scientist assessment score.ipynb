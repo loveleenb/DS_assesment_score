{
 "cells": [
  {
   "cell_type": "markdown",
   "metadata": {},
   "source": [
    "Problem Statement:\n",
    "● Analytics Vidhya  conducted an assessment test to hire a Data Scientist. The\n",
    "candidates were evaluated on 5 different subjects A, B, C, D, and E. The marks of\n",
    "5 different subjects out of 100 are given below. Help Analytics Vidhya to find out\n",
    "the answers of the following questions.\n",
    "● 🙇 Who scored the highest marks in the subject B?\n",
    "● 🙇 What is the average marks scored in the subject C?\n",
    "● 🙇 Who scored the highest percentage of marks?\n",
    "● 🙇 If considered only top-4 subjects of a candidate, then who scored the highest\n",
    "percentage of marks?"
   ]
  },
  {
   "cell_type": "code",
   "execution_count": 1,
   "metadata": {},
   "outputs": [],
   "source": [
    "# student marks\n",
    "student_marks = [['Name',  ['A','B','C','D','E']],\n",
    "                 ['Ankit',  [41, 34, 45, 55, 63]],\n",
    "                 ['Aravind',[42, 23, 34, 44, 53]],\n",
    "                 ['Lakshay',[32, 23, 13, 54, 67]],\n",
    "                 ['Gyan',   [23, 82, 23, 63, 34]],\n",
    "                 ['Pranav', [21, 23, 25, 56, 56]]\n",
    "                ]"
   ]
  },
  {
   "cell_type": "markdown",
   "metadata": {},
   "source": [
    "● 🙇 Who scored the highest marks in the subject B?"
   ]
  },
  {
   "cell_type": "code",
   "execution_count": 2,
   "metadata": {},
   "outputs": [
    {
     "name": "stdout",
     "output_type": "stream",
     "text": [
      "List of names with marks in subject B:\n",
      "Ankit 34\n",
      "Aravind 23\n",
      "Lakshay 23\n",
      "Gyan 82\n",
      "Pranav 23\n",
      "Highest scored person in subject B ('Gyan', 82)\n"
     ]
    }
   ],
   "source": [
    "# declear string variable to store person name who scored highest marks in B\n",
    "highest_B = None\n",
    "# declear string variable to store highest marks in B\n",
    "highest_B_marks = 0\n",
    "print(f\"List of names with marks in subject B:\")\n",
    "# loop to go through each item in list and find who scored highest in B\n",
    "for item in student_marks[1:]:\n",
    "    print(item[0],item[1][1])\n",
    "    if highest_B_marks < item[1][1]:\n",
    "        highest_B_marks = item[1][1]\n",
    "        highest_B = item[0]  \n",
    "    else:\n",
    "        pass\n",
    "print(f\"Highest scored person in subject B {highest_B, highest_B_marks}\")"
   ]
  },
  {
   "cell_type": "markdown",
   "metadata": {},
   "source": [
    "● 🙇 What is the average marks scored in the subject C?"
   ]
  },
  {
   "cell_type": "code",
   "execution_count": 5,
   "metadata": {},
   "outputs": [
    {
     "name": "stdout",
     "output_type": "stream",
     "text": [
      "List of names with marks in subject C:\n",
      "Ankit 45\n",
      "Aravind 34\n",
      "Lakshay 13\n",
      "Gyan 23\n",
      "Pranav 25\n",
      "Average marks in C: 28\n"
     ]
    }
   ],
   "source": [
    "# from statistics import mean function to calculate average\n",
    "from statistics import mean\n",
    "# declear empty list to store C marks\n",
    "avg_marks_C = []\n",
    "print(f\"List of names with marks in subject C:\")\n",
    "# loop to go through each item in list and store C marks in list avg_marks_C\n",
    "for item in student_marks[1:]:\n",
    "    print(item[0],item[1][2])\n",
    "    avg_marks_C.append(item[1][2])\n",
    "# print mean of marks in C\n",
    "print(f\"Average marks in C: {mean(avg_marks_C)}\")"
   ]
  },
  {
   "cell_type": "code",
   "execution_count": 6,
   "metadata": {},
   "outputs": [],
   "source": [
    "# function to calculate percentage\n",
    "def percentage(a, b):\n",
    "    return round(a / b * 100, 2)"
   ]
  },
  {
   "cell_type": "code",
   "execution_count": 7,
   "metadata": {},
   "outputs": [],
   "source": [
    "# function to find top percentages\n",
    "def top_percent(total_marks, student_list, start_index, end_index, subject_number):\n",
    "    # variable to store highest percentage\n",
    "    highest_percent = 0\n",
    "    # variable to store name who scored highest percentage\n",
    "    person_scored = None\n",
    "    print(f\"List of names with percentages:\")\n",
    "    # loop to go through each item in list and find who scored highest percentage\n",
    "    for item in student_list[1:]:\n",
    "        total = sum(item[1][start_index:end_index])\n",
    "        percent = percentage(total, total_marks)\n",
    "        print(item[0], percent)\n",
    "        if highest_percent < percent:\n",
    "            highest_percent = percent\n",
    "            person_scored = item[0]\n",
    "        else:\n",
    "            pass\n",
    "    print(f\"Highest percentage of marks from {subject_number} subjects {person_scored, highest_percent}\")"
   ]
  },
  {
   "cell_type": "markdown",
   "metadata": {},
   "source": [
    "● 🙇 Who scored the highest percentage of marks?"
   ]
  },
  {
   "cell_type": "code",
   "execution_count": 8,
   "metadata": {
    "scrolled": true
   },
   "outputs": [
    {
     "name": "stdout",
     "output_type": "stream",
     "text": [
      "List of names with percentages:\n",
      "Ankit 47.6\n",
      "Aravind 39.2\n",
      "Lakshay 37.8\n",
      "Gyan 45.0\n",
      "Pranav 36.2\n",
      "Highest percentage of marks from 5 subjects ('Ankit', 47.6)\n"
     ]
    }
   ],
   "source": [
    "# End index of marks list\n",
    "index_marks = len(student_marks[0][1])\n",
    "# number of subjects to find percentage\n",
    "subject_number = 5\n",
    "# find percentage\n",
    "top_percent(500, student_marks, 0, index_marks, subject_number)"
   ]
  },
  {
   "cell_type": "markdown",
   "metadata": {},
   "source": [
    "● 🙇 If considered only top-4 subjects of a candidate, then who scored the highest\n",
    "percentage of marks?"
   ]
  },
  {
   "cell_type": "code",
   "execution_count": 9,
   "metadata": {},
   "outputs": [
    {
     "name": "stdout",
     "output_type": "stream",
     "text": [
      "List of names with percentages:\n",
      "Ankit 43.75\n",
      "Aravind 35.75\n",
      "Lakshay 30.5\n",
      "Gyan 47.75\n",
      "Pranav 31.25\n",
      "Highest percentage of marks from 4 subjects ('Gyan', 47.75)\n"
     ]
    }
   ],
   "source": [
    "# End index of marks list\n",
    "index_first_4 = len(student_marks[0][1])-1\n",
    "# number of subjects to find percentage\n",
    "subject_number = 4\n",
    "# find percentage\n",
    "top_percent(400, student_marks, 0, index_first_4, subject_number)"
   ]
  }
 ],
 "metadata": {
  "kernelspec": {
   "display_name": "Python 3",
   "language": "python",
   "name": "python3"
  },
  "language_info": {
   "codemirror_mode": {
    "name": "ipython",
    "version": 3
   },
   "file_extension": ".py",
   "mimetype": "text/x-python",
   "name": "python",
   "nbconvert_exporter": "python",
   "pygments_lexer": "ipython3",
   "version": "3.6.8"
  }
 },
 "nbformat": 4,
 "nbformat_minor": 2
}
